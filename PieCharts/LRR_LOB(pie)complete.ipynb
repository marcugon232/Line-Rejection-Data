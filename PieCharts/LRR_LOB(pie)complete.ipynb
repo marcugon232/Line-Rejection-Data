{
 "cells": [
  {
   "cell_type": "code",
   "execution_count": 2,
   "metadata": {},
   "outputs": [],
   "source": [
    "import matplotlib.pyplot as plt\n",
    "import pandas as pd"
   ]
  },
  {
   "cell_type": "code",
   "execution_count": 3,
   "metadata": {},
   "outputs": [
    {
     "data": {
      "text/html": [
       "<div>\n",
       "<style scoped>\n",
       "    .dataframe tbody tr th:only-of-type {\n",
       "        vertical-align: middle;\n",
       "    }\n",
       "\n",
       "    .dataframe tbody tr th {\n",
       "        vertical-align: top;\n",
       "    }\n",
       "\n",
       "    .dataframe thead th {\n",
       "        text-align: right;\n",
       "    }\n",
       "</style>\n",
       "<table border=\"1\" class=\"dataframe\">\n",
       "  <thead>\n",
       "    <tr style=\"text-align: right;\">\n",
       "      <th></th>\n",
       "      <th>Unnamed: 0</th>\n",
       "      <th>LOB</th>\n",
       "      <th>CONSUMPTION</th>\n",
       "      <th>LR</th>\n",
       "      <th>VID</th>\n",
       "      <th>CND</th>\n",
       "      <th>PID</th>\n",
       "      <th>LRR (ppm)</th>\n",
       "    </tr>\n",
       "  </thead>\n",
       "  <tbody>\n",
       "    <tr>\n",
       "      <th>0</th>\n",
       "      <td>0</td>\n",
       "      <td>Commercial</td>\n",
       "      <td>6057924</td>\n",
       "      <td>82</td>\n",
       "      <td>17</td>\n",
       "      <td>32</td>\n",
       "      <td>33</td>\n",
       "      <td>13.535990</td>\n",
       "    </tr>\n",
       "    <tr>\n",
       "      <th>1</th>\n",
       "      <td>1</td>\n",
       "      <td>Consumer</td>\n",
       "      <td>4000296</td>\n",
       "      <td>185</td>\n",
       "      <td>33</td>\n",
       "      <td>71</td>\n",
       "      <td>81</td>\n",
       "      <td>46.246578</td>\n",
       "    </tr>\n",
       "    <tr>\n",
       "      <th>2</th>\n",
       "      <td>2</td>\n",
       "      <td>Gaming</td>\n",
       "      <td>84429</td>\n",
       "      <td>0</td>\n",
       "      <td>0</td>\n",
       "      <td>0</td>\n",
       "      <td>0</td>\n",
       "      <td>0.000000</td>\n",
       "    </tr>\n",
       "  </tbody>\n",
       "</table>\n",
       "</div>"
      ],
      "text/plain": [
       "   Unnamed: 0         LOB  CONSUMPTION   LR  VID  CND  PID  LRR (ppm)\n",
       "0           0  Commercial      6057924   82   17   32   33  13.535990\n",
       "1           1    Consumer      4000296  185   33   71   81  46.246578\n",
       "2           2      Gaming        84429    0    0    0    0   0.000000"
      ]
     },
     "execution_count": 3,
     "metadata": {},
     "output_type": "execute_result"
    }
   ],
   "source": [
    "LRR_LOB= pd.read_csv(\"LRR_LOB(pie).csv\")\n",
    "LRR_LOB.head()"
   ]
  },
  {
   "cell_type": "code",
   "execution_count": 4,
   "metadata": {},
   "outputs": [
    {
     "data": {
      "text/html": [
       "<div>\n",
       "<style scoped>\n",
       "    .dataframe tbody tr th:only-of-type {\n",
       "        vertical-align: middle;\n",
       "    }\n",
       "\n",
       "    .dataframe tbody tr th {\n",
       "        vertical-align: top;\n",
       "    }\n",
       "\n",
       "    .dataframe thead th {\n",
       "        text-align: right;\n",
       "    }\n",
       "</style>\n",
       "<table border=\"1\" class=\"dataframe\">\n",
       "  <thead>\n",
       "    <tr style=\"text-align: right;\">\n",
       "      <th></th>\n",
       "      <th>Unnamed: 0</th>\n",
       "      <th>LOB</th>\n",
       "      <th>CONSUMPTION</th>\n",
       "      <th>LR</th>\n",
       "      <th>VID</th>\n",
       "      <th>CND</th>\n",
       "      <th>PID</th>\n",
       "      <th>LRR (ppm)</th>\n",
       "      <th>Percent</th>\n",
       "    </tr>\n",
       "  </thead>\n",
       "  <tbody>\n",
       "    <tr>\n",
       "      <th>0</th>\n",
       "      <td>0</td>\n",
       "      <td>Commercial</td>\n",
       "      <td>6057924</td>\n",
       "      <td>82</td>\n",
       "      <td>17</td>\n",
       "      <td>32</td>\n",
       "      <td>33</td>\n",
       "      <td>13.535990</td>\n",
       "      <td>22.642035</td>\n",
       "    </tr>\n",
       "    <tr>\n",
       "      <th>1</th>\n",
       "      <td>1</td>\n",
       "      <td>Consumer</td>\n",
       "      <td>4000296</td>\n",
       "      <td>185</td>\n",
       "      <td>33</td>\n",
       "      <td>71</td>\n",
       "      <td>81</td>\n",
       "      <td>46.246578</td>\n",
       "      <td>77.357965</td>\n",
       "    </tr>\n",
       "    <tr>\n",
       "      <th>2</th>\n",
       "      <td>2</td>\n",
       "      <td>Gaming</td>\n",
       "      <td>84429</td>\n",
       "      <td>0</td>\n",
       "      <td>0</td>\n",
       "      <td>0</td>\n",
       "      <td>0</td>\n",
       "      <td>0.000000</td>\n",
       "      <td>0.000000</td>\n",
       "    </tr>\n",
       "  </tbody>\n",
       "</table>\n",
       "</div>"
      ],
      "text/plain": [
       "   Unnamed: 0         LOB  CONSUMPTION   LR  VID  CND  PID  LRR (ppm)  \\\n",
       "0           0  Commercial      6057924   82   17   32   33  13.535990   \n",
       "1           1    Consumer      4000296  185   33   71   81  46.246578   \n",
       "2           2      Gaming        84429    0    0    0    0   0.000000   \n",
       "\n",
       "     Percent  \n",
       "0  22.642035  \n",
       "1  77.357965  \n",
       "2   0.000000  "
      ]
     },
     "execution_count": 4,
     "metadata": {},
     "output_type": "execute_result"
    }
   ],
   "source": [
    "LRR_sum = LRR_LOB[\"LRR (ppm)\"].sum()\n",
    "\n",
    "LRR_LOB[\"Percent\"]=LRR_LOB[\"LRR (ppm)\"]/LRR_sum * 100\n",
    "LRR_LOB"
   ]
  },
  {
   "cell_type": "code",
   "execution_count": 5,
   "metadata": {},
   "outputs": [],
   "source": [
    "LOB= [\"Commercial\", \"Consumer\", \"Gaming\"]\n",
    "lrr_per= [\"13.535990\",\"46.246578\", \"0.000000\"]\n",
    "colors= [\"yellow\", \"red\", \"lightblue\"]\n",
    "#explode = (0.1, 0, 0)"
   ]
  },
  {
   "cell_type": "code",
   "execution_count": 6,
   "metadata": {},
   "outputs": [
    {
     "data": {
      "image/png": "[encoded data removed]",
      "text/plain": [
       "<Figure size 432x288 with 1 Axes>"
      ]
     },
     "metadata": {},
     "output_type": "display_data"
    }
   ],
   "source": [
    "plt.pie(lrr_per, labels=LOB, colors=colors, autopct=\"%1.1f%%\", shadow=True, startangle=140);\n",
    "plt.savefig(\"LOB(pie).png\")"
   ]
  },
  {
   "cell_type": "code",
   "execution_count": null,
   "metadata": {},
   "outputs": [],
   "source": []
  }
 ],
 "metadata": {
  "kernelspec": {
   "display_name": "Python 3",
   "language": "python",
   "name": "python3"
  },
  "language_info": {
   "codemirror_mode": {
    "name": "ipython",
    "version": 3
   },
   "file_extension": ".py",
   "mimetype": "text/x-python",
   "name": "python",
   "nbconvert_exporter": "python",
   "pygments_lexer": "ipython3",
   "version": "3.7.3"
  }
 },
 "nbformat": 4,
 "nbformat_minor": 2
}
