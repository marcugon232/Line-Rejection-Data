{
 "cells": [
  {
   "cell_type": "code",
   "execution_count": 33,
   "metadata": {},
   "outputs": [],
   "source": [
    "import matplotlib.pyplot as plt\n",
    "import pandas as pd"
   ]
  },
  {
   "cell_type": "code",
   "execution_count": 34,
   "metadata": {
    "scrolled": false
   },
   "outputs": [
    {
     "data": {
      "text/html": [
       "<div>\n",
       "<style scoped>\n",
       "    .dataframe tbody tr th:only-of-type {\n",
       "        vertical-align: middle;\n",
       "    }\n",
       "\n",
       "    .dataframe tbody tr th {\n",
       "        vertical-align: top;\n",
       "    }\n",
       "\n",
       "    .dataframe thead th {\n",
       "        text-align: right;\n",
       "    }\n",
       "</style>\n",
       "<table border=\"1\" class=\"dataframe\">\n",
       "  <thead>\n",
       "    <tr style=\"text-align: right;\">\n",
       "      <th></th>\n",
       "      <th>SUPPLIER</th>\n",
       "      <th>CONSUMPTION</th>\n",
       "      <th>LR</th>\n",
       "      <th>VID</th>\n",
       "      <th>CND</th>\n",
       "      <th>PID</th>\n",
       "      <th>LRR (ppm)</th>\n",
       "    </tr>\n",
       "  </thead>\n",
       "  <tbody>\n",
       "    <tr>\n",
       "      <th>0</th>\n",
       "      <td>A</td>\n",
       "      <td>3078278</td>\n",
       "      <td>59</td>\n",
       "      <td>1</td>\n",
       "      <td>13</td>\n",
       "      <td>45</td>\n",
       "      <td>19.166560</td>\n",
       "    </tr>\n",
       "    <tr>\n",
       "      <th>1</th>\n",
       "      <td>B</td>\n",
       "      <td>176734</td>\n",
       "      <td>57</td>\n",
       "      <td>40</td>\n",
       "      <td>7</td>\n",
       "      <td>10</td>\n",
       "      <td>322.518587</td>\n",
       "    </tr>\n",
       "    <tr>\n",
       "      <th>2</th>\n",
       "      <td>C</td>\n",
       "      <td>1687936</td>\n",
       "      <td>13</td>\n",
       "      <td>1</td>\n",
       "      <td>1</td>\n",
       "      <td>11</td>\n",
       "      <td>7.701714</td>\n",
       "    </tr>\n",
       "    <tr>\n",
       "      <th>3</th>\n",
       "      <td>D</td>\n",
       "      <td>1968742</td>\n",
       "      <td>72</td>\n",
       "      <td>1</td>\n",
       "      <td>38</td>\n",
       "      <td>33</td>\n",
       "      <td>36.571577</td>\n",
       "    </tr>\n",
       "    <tr>\n",
       "      <th>4</th>\n",
       "      <td>E</td>\n",
       "      <td>3230959</td>\n",
       "      <td>66</td>\n",
       "      <td>7</td>\n",
       "      <td>44</td>\n",
       "      <td>15</td>\n",
       "      <td>20.427372</td>\n",
       "    </tr>\n",
       "  </tbody>\n",
       "</table>\n",
       "</div>"
      ],
      "text/plain": [
       "  SUPPLIER  CONSUMPTION  LR  VID  CND  PID   LRR (ppm)\n",
       "0        A      3078278  59    1   13   45   19.166560\n",
       "1        B       176734  57   40    7   10  322.518587\n",
       "2        C      1687936  13    1    1   11    7.701714\n",
       "3        D      1968742  72    1   38   33   36.571577\n",
       "4        E      3230959  66    7   44   15   20.427372"
      ]
     },
     "execution_count": 34,
     "metadata": {},
     "output_type": "execute_result"
    }
   ],
   "source": [
    "LRR_supplier = pd.read_csv(\"LRR_supplier(pie).csv\")\n",
    "LRR_supplier\n"
   ]
  },
  {
   "cell_type": "code",
   "execution_count": 35,
   "metadata": {},
   "outputs": [
    {
     "data": {
      "text/html": [
       "<div>\n",
       "<style scoped>\n",
       "    .dataframe tbody tr th:only-of-type {\n",
       "        vertical-align: middle;\n",
       "    }\n",
       "\n",
       "    .dataframe tbody tr th {\n",
       "        vertical-align: top;\n",
       "    }\n",
       "\n",
       "    .dataframe thead th {\n",
       "        text-align: right;\n",
       "    }\n",
       "</style>\n",
       "<table border=\"1\" class=\"dataframe\">\n",
       "  <thead>\n",
       "    <tr style=\"text-align: right;\">\n",
       "      <th></th>\n",
       "      <th>SUPPLIER</th>\n",
       "      <th>CONSUMPTION</th>\n",
       "      <th>LR</th>\n",
       "      <th>VID</th>\n",
       "      <th>CND</th>\n",
       "      <th>PID</th>\n",
       "      <th>LRR (ppm)</th>\n",
       "      <th>Percent</th>\n",
       "    </tr>\n",
       "  </thead>\n",
       "  <tbody>\n",
       "    <tr>\n",
       "      <th>0</th>\n",
       "      <td>A</td>\n",
       "      <td>3078278</td>\n",
       "      <td>59</td>\n",
       "      <td>1</td>\n",
       "      <td>13</td>\n",
       "      <td>45</td>\n",
       "      <td>19.166560</td>\n",
       "      <td>4.716346</td>\n",
       "    </tr>\n",
       "    <tr>\n",
       "      <th>1</th>\n",
       "      <td>B</td>\n",
       "      <td>176734</td>\n",
       "      <td>57</td>\n",
       "      <td>40</td>\n",
       "      <td>7</td>\n",
       "      <td>10</td>\n",
       "      <td>322.518587</td>\n",
       "      <td>79.362660</td>\n",
       "    </tr>\n",
       "    <tr>\n",
       "      <th>2</th>\n",
       "      <td>C</td>\n",
       "      <td>1687936</td>\n",
       "      <td>13</td>\n",
       "      <td>1</td>\n",
       "      <td>1</td>\n",
       "      <td>11</td>\n",
       "      <td>7.701714</td>\n",
       "      <td>1.895173</td>\n",
       "    </tr>\n",
       "    <tr>\n",
       "      <th>3</th>\n",
       "      <td>D</td>\n",
       "      <td>1968742</td>\n",
       "      <td>72</td>\n",
       "      <td>1</td>\n",
       "      <td>38</td>\n",
       "      <td>33</td>\n",
       "      <td>36.571577</td>\n",
       "      <td>8.999226</td>\n",
       "    </tr>\n",
       "    <tr>\n",
       "      <th>4</th>\n",
       "      <td>E</td>\n",
       "      <td>3230959</td>\n",
       "      <td>66</td>\n",
       "      <td>7</td>\n",
       "      <td>44</td>\n",
       "      <td>15</td>\n",
       "      <td>20.427372</td>\n",
       "      <td>5.026596</td>\n",
       "    </tr>\n",
       "  </tbody>\n",
       "</table>\n",
       "</div>"
      ],
      "text/plain": [
       "  SUPPLIER  CONSUMPTION  LR  VID  CND  PID   LRR (ppm)    Percent\n",
       "0        A      3078278  59    1   13   45   19.166560   4.716346\n",
       "1        B       176734  57   40    7   10  322.518587  79.362660\n",
       "2        C      1687936  13    1    1   11    7.701714   1.895173\n",
       "3        D      1968742  72    1   38   33   36.571577   8.999226\n",
       "4        E      3230959  66    7   44   15   20.427372   5.026596"
      ]
     },
     "execution_count": 35,
     "metadata": {},
     "output_type": "execute_result"
    }
   ],
   "source": [
    "LRR_sum = LRR_supplier[\"LRR (ppm)\"].sum()\n",
    "LRR_supplier[\"Percent\"] = LRR_supplier[\"LRR (ppm)\"] / LRR_sum * 100\n",
    "LRR_supplier"
   ]
  },
  {
   "cell_type": "code",
   "execution_count": 41,
   "metadata": {},
   "outputs": [],
   "source": [
    "supplier = [\"A\",\"B\",\"C\",\"D\",\"E\"]\n",
    "lrr_per = [\"4.7\", \"79.3\",\"1.8\", \"8.9\", \"5.0\"]\n",
    "colors = [\"red\", \"lightcoral\", \"orange\", \"lightskyblue\", \"lightgreen\"]\n",
    "explode = (0.1, 0, 0, 0, 0)\n"
   ]
  },
  {
   "cell_type": "code",
   "execution_count": 42,
   "metadata": {},
   "outputs": [
    {
     "data": {
      "text/plain": [
       "([<matplotlib.patches.Wedge at 0x1145ccba8>,\n",
       "  <matplotlib.patches.Wedge at 0x11410c3c8>,\n",
       "  <matplotlib.patches.Wedge at 0x11410cd68>,\n",
       "  <matplotlib.patches.Wedge at 0x11411a748>,\n",
       "  <matplotlib.patches.Wedge at 0x1142a7128>],\n",
       " [Text(-1.0230090053362813, 0.6272579812173559, 'A'),\n",
       "  Text(0.5523329747172538, -0.9512771862291188, 'B'),\n",
       "  Text(0.06600991994374748, 1.0980176184693122, 'C'),\n",
       "  Text(-0.3009419317922872, 1.0580330588829097, 'D'),\n",
       "  Text(-0.7212722885016056, 0.8305216949843375, 'E')],\n",
       " [Text(-0.5967552531128306, 0.3659004890434575, '4.7%'),\n",
       "  Text(0.30127253166395657, -0.5188784652158829, '79.5%'),\n",
       "  Text(0.03600541087840771, 0.5989187009832612, '1.8%'),\n",
       "  Text(-0.16415014461397479, 0.5771089412088597, '8.9%'),\n",
       "  Text(-0.39342124827360303, 0.4530118336278204, '5.0%')])"
      ]
     },
     "execution_count": 42,
     "metadata": {},
     "output_type": "execute_result"
    },
    {
     "data": {
      "image/png": "[encoded data removed]",
      "text/plain": [
       "<Figure size 432x288 with 1 Axes>"
      ]
     },
     "metadata": {},
     "output_type": "display_data"
    }
   ],
   "source": [
    "plt.pie(lrr_per, explode=explode, labels=supplier, colors=colors,\n",
    "        autopct=\"%1.1f%%\", shadow=True, startangle=140)"
   ]
  },
  {
   "cell_type": "code",
   "execution_count": null,
   "metadata": {},
   "outputs": [],
   "source": [
    "plt.pie(LRR(ppm), explode=explode, labels=labels, )"
   ]
  }
 ],
 "metadata": {
  "kernelspec": {
   "display_name": "Python 3",
   "language": "python",
   "name": "python3"
  },
  "language_info": {
   "codemirror_mode": {
    "name": "ipython",
    "version": 3
   },
   "file_extension": ".py",
   "mimetype": "text/x-python",
   "name": "python",
   "nbconvert_exporter": "python",
   "pygments_lexer": "ipython3",
   "version": "3.7.3"
  }
 },
 "nbformat": 4,
 "nbformat_minor": 2
}
