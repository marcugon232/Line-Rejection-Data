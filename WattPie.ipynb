{
 "cells": [
  {
   "cell_type": "code",
   "execution_count": 1,
   "metadata": {},
   "outputs": [],
   "source": [
    "import matplotlib.pyplot as plt\n",
    "import pandas as pd"
   ]
  },
  {
   "cell_type": "code",
   "execution_count": 2,
   "metadata": {},
   "outputs": [
    {
     "data": {
      "text/html": [
       "<div>\n",
       "<style scoped>\n",
       "    .dataframe tbody tr th:only-of-type {\n",
       "        vertical-align: middle;\n",
       "    }\n",
       "\n",
       "    .dataframe tbody tr th {\n",
       "        vertical-align: top;\n",
       "    }\n",
       "\n",
       "    .dataframe thead th {\n",
       "        text-align: right;\n",
       "    }\n",
       "</style>\n",
       "<table border=\"1\" class=\"dataframe\">\n",
       "  <thead>\n",
       "    <tr style=\"text-align: right;\">\n",
       "      <th></th>\n",
       "      <th>Unnamed: 0</th>\n",
       "      <th>WATT_LEVEL</th>\n",
       "      <th>CONSUMPTION</th>\n",
       "      <th>LR</th>\n",
       "      <th>VID</th>\n",
       "      <th>CND</th>\n",
       "      <th>PID</th>\n",
       "      <th>LRR (ppm)</th>\n",
       "    </tr>\n",
       "  </thead>\n",
       "  <tbody>\n",
       "    <tr>\n",
       "      <th>0</th>\n",
       "      <td>0</td>\n",
       "      <td>High</td>\n",
       "      <td>394673</td>\n",
       "      <td>0</td>\n",
       "      <td>0</td>\n",
       "      <td>0</td>\n",
       "      <td>0</td>\n",
       "      <td>0.000000e+00</td>\n",
       "    </tr>\n",
       "    <tr>\n",
       "      <th>1</th>\n",
       "      <td>1</td>\n",
       "      <td>Low</td>\n",
       "      <td>5506533</td>\n",
       "      <td>192</td>\n",
       "      <td>46</td>\n",
       "      <td>64</td>\n",
       "      <td>82</td>\n",
       "      <td>4.633481e+07</td>\n",
       "    </tr>\n",
       "    <tr>\n",
       "      <th>2</th>\n",
       "      <td>2</td>\n",
       "      <td>Medium</td>\n",
       "      <td>4241443</td>\n",
       "      <td>75</td>\n",
       "      <td>4</td>\n",
       "      <td>39</td>\n",
       "      <td>32</td>\n",
       "      <td>2.605097e+07</td>\n",
       "    </tr>\n",
       "  </tbody>\n",
       "</table>\n",
       "</div>"
      ],
      "text/plain": [
       "   Unnamed: 0 WATT_LEVEL  CONSUMPTION   LR  VID  CND  PID     LRR (ppm)\n",
       "0           0       High       394673    0    0    0    0  0.000000e+00\n",
       "1           1        Low      5506533  192   46   64   82  4.633481e+07\n",
       "2           2     Medium      4241443   75    4   39   32  2.605097e+07"
      ]
     },
     "execution_count": 2,
     "metadata": {},
     "output_type": "execute_result"
    }
   ],
   "source": [
    "LRR_watt = pd.read_csv(\"LRR_watt(pie).csv\")\n",
    "LRR_watt\n"
   ]
  },
  {
   "cell_type": "code",
   "execution_count": 3,
   "metadata": {},
   "outputs": [
    {
     "data": {
      "text/html": [
       "<div>\n",
       "<style scoped>\n",
       "    .dataframe tbody tr th:only-of-type {\n",
       "        vertical-align: middle;\n",
       "    }\n",
       "\n",
       "    .dataframe tbody tr th {\n",
       "        vertical-align: top;\n",
       "    }\n",
       "\n",
       "    .dataframe thead th {\n",
       "        text-align: right;\n",
       "    }\n",
       "</style>\n",
       "<table border=\"1\" class=\"dataframe\">\n",
       "  <thead>\n",
       "    <tr style=\"text-align: right;\">\n",
       "      <th></th>\n",
       "      <th>Unnamed: 0</th>\n",
       "      <th>WATT_LEVEL</th>\n",
       "      <th>CONSUMPTION</th>\n",
       "      <th>LR</th>\n",
       "      <th>VID</th>\n",
       "      <th>CND</th>\n",
       "      <th>PID</th>\n",
       "      <th>LRR (ppm)</th>\n",
       "      <th>Percent</th>\n",
       "    </tr>\n",
       "  </thead>\n",
       "  <tbody>\n",
       "    <tr>\n",
       "      <th>0</th>\n",
       "      <td>0</td>\n",
       "      <td>High</td>\n",
       "      <td>394673</td>\n",
       "      <td>0</td>\n",
       "      <td>0</td>\n",
       "      <td>0</td>\n",
       "      <td>0</td>\n",
       "      <td>0.000000e+00</td>\n",
       "      <td>0.000000</td>\n",
       "    </tr>\n",
       "    <tr>\n",
       "      <th>1</th>\n",
       "      <td>1</td>\n",
       "      <td>Low</td>\n",
       "      <td>5506533</td>\n",
       "      <td>192</td>\n",
       "      <td>46</td>\n",
       "      <td>64</td>\n",
       "      <td>82</td>\n",
       "      <td>4.633481e+07</td>\n",
       "      <td>64.010927</td>\n",
       "    </tr>\n",
       "    <tr>\n",
       "      <th>2</th>\n",
       "      <td>2</td>\n",
       "      <td>Medium</td>\n",
       "      <td>4241443</td>\n",
       "      <td>75</td>\n",
       "      <td>4</td>\n",
       "      <td>39</td>\n",
       "      <td>32</td>\n",
       "      <td>2.605097e+07</td>\n",
       "      <td>35.989073</td>\n",
       "    </tr>\n",
       "  </tbody>\n",
       "</table>\n",
       "</div>"
      ],
      "text/plain": [
       "   Unnamed: 0 WATT_LEVEL  CONSUMPTION   LR  VID  CND  PID     LRR (ppm)  \\\n",
       "0           0       High       394673    0    0    0    0  0.000000e+00   \n",
       "1           1        Low      5506533  192   46   64   82  4.633481e+07   \n",
       "2           2     Medium      4241443   75    4   39   32  2.605097e+07   \n",
       "\n",
       "     Percent  \n",
       "0   0.000000  \n",
       "1  64.010927  \n",
       "2  35.989073  "
      ]
     },
     "execution_count": 3,
     "metadata": {},
     "output_type": "execute_result"
    }
   ],
   "source": [
    "LRR_sum = LRR_watt[\"LRR (ppm)\"].sum()\n",
    "LRR_watt[\"Percent\"] = LRR_watt[\"LRR (ppm)\"] / LRR_sum * 100\n",
    "LRR_watt"
   ]
  },
  {
   "cell_type": "code",
   "execution_count": 4,
   "metadata": {},
   "outputs": [],
   "source": [
    "watt_level = [\"High\",\"Low\",\"Medium\"]\n",
    "lrr_per = [\"0.000000\", \"64.010927\",\"35.989073\"]\n",
    "colors = [\"lightgreen\", \"lightskyblue\", \"lightcoral\"]\n",
    "explode = (0.1, 0, 0)\n"
   ]
  },
  {
   "cell_type": "code",
   "execution_count": 6,
   "metadata": {},
   "outputs": [
    {
     "data": {
      "image/png": "[encoded data removed]",
      "text/plain": [
       "<Figure size 432x288 with 1 Axes>"
      ]
     },
     "metadata": {},
     "output_type": "display_data"
    }
   ],
   "source": [
    "plt.pie(lrr_per, explode=explode, labels=watt_level, colors=colors,\n",
    "        autopct=\"%1.1f%%\", shadow=True, startangle=140)\n",
    "plt.savefig(\"watt_level_pie.png\")"
   ]
  },
  {
   "cell_type": "code",
   "execution_count": null,
   "metadata": {},
   "outputs": [],
   "source": []
  },
  {
   "cell_type": "code",
   "execution_count": null,
   "metadata": {},
   "outputs": [],
   "source": []
  }
 ],
 "metadata": {
  "kernelspec": {
   "display_name": "Python 3",
   "language": "python",
   "name": "python3"
  },
  "language_info": {
   "codemirror_mode": {
    "name": "ipython",
    "version": 3
   },
   "file_extension": ".py",
   "mimetype": "text/x-python",
   "name": "python",
   "nbconvert_exporter": "python",
   "pygments_lexer": "ipython3",
   "version": "3.7.3"
  }
 },
 "nbformat": 4,
 "nbformat_minor": 2
}
